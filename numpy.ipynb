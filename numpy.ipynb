{
  "nbformat": 4,
  "nbformat_minor": 0,
  "metadata": {
    "colab": {
      "provenance": [],
      "authorship_tag": "ABX9TyPtc6c42TEIQ3f6aMWx1rts",
      "include_colab_link": true
    },
    "kernelspec": {
      "name": "python3",
      "display_name": "Python 3"
    },
    "language_info": {
      "name": "python"
    }
  },
  "cells": [
    {
      "cell_type": "markdown",
      "metadata": {
        "id": "view-in-github",
        "colab_type": "text"
      },
      "source": [
        "<a href=\"https://colab.research.google.com/github/girishjalli18/intro-to-ml-on-aws-crsra/blob/main/numpy.ipynb\" target=\"_parent\"><img src=\"https://colab.research.google.com/assets/colab-badge.svg\" alt=\"Open In Colab\"/></a>"
      ]
    },
    {
      "cell_type": "code",
      "execution_count": null,
      "metadata": {
        "id": "A_784PaOShJi"
      },
      "outputs": [],
      "source": []
    },
    {
      "cell_type": "markdown",
      "source": [
        "1. import numpy\n",
        "2. create a an np array with python list [1,2,3,4,5]\n",
        "3. check the shape\n",
        "4. crate an array with arange function\n",
        "5. create a np array of zeros shape (3,4)\n",
        "6. create a np array of ones shape (4,4)\n",
        "7. craete a np array with full values with 5\n",
        "8. create a identiy array\n",
        "9. create a np array with random floats\n",
        "10. crate a np array with random ints\n",
        "11. create a np array with values between 10, 60 at linspace of 5\n",
        "12. crete np array between 10, 60 using arange and step value\n",
        "13. convert a list into an np.array\n",
        "14. create a np array of random ints and analyze, shape, dimention, num of elements ( np.shape, np.ndim, np.size)\n",
        "15. check the data type of the values inthe np array using dtypes\n",
        "16. arthematic operations on np arrays\n",
        "  - create two arrays the perform add, subtraction, multiplicaiton, and division, use both +,-,*,/ and np.add, np.subtract, np.multiplication, np.division check the exact functions\n",
        "17. reshape a given array\n",
        "18. get the transpose of np array, np.transpose, np.T\n",
        ""
      ],
      "metadata": {
        "id": "LfA2JpTwSsmT"
      }
    },
    {
      "cell_type": "code",
      "source": [
        "import numpy as np"
      ],
      "metadata": {
        "id": "KWvdFMxBdmY7"
      },
      "execution_count": 1,
      "outputs": []
    },
    {
      "cell_type": "code",
      "source": [
        "# 2. create a an np array with python list [1,2,3,4,5]\n",
        "a = np.array([1,2,3,4,5])\n",
        "print(a)"
      ],
      "metadata": {
        "colab": {
          "base_uri": "https://localhost:8080/"
        },
        "id": "Wa0gPRjQdp5T",
        "outputId": "d2c71598-982d-4c73-a070-5126884fa440"
      },
      "execution_count": 2,
      "outputs": [
        {
          "output_type": "stream",
          "name": "stdout",
          "text": [
            "[1 2 3 4 5]\n"
          ]
        }
      ]
    },
    {
      "cell_type": "code",
      "source": [
        "type(a)"
      ],
      "metadata": {
        "colab": {
          "base_uri": "https://localhost:8080/"
        },
        "id": "pqWXvqnAd0iG",
        "outputId": "d4387947-a632-43ca-9f51-b8d07e11ea68"
      },
      "execution_count": 3,
      "outputs": [
        {
          "output_type": "execute_result",
          "data": {
            "text/plain": [
              "numpy.ndarray"
            ]
          },
          "metadata": {},
          "execution_count": 3
        }
      ]
    },
    {
      "cell_type": "code",
      "source": [
        "#  3. check the shape\n",
        "a.shape"
      ],
      "metadata": {
        "colab": {
          "base_uri": "https://localhost:8080/"
        },
        "id": "2RrQYZXwd2wO",
        "outputId": "2cc81e13-6f2b-4c42-8586-46d8cefac874"
      },
      "execution_count": 4,
      "outputs": [
        {
          "output_type": "execute_result",
          "data": {
            "text/plain": [
              "(5,)"
            ]
          },
          "metadata": {},
          "execution_count": 4
        }
      ]
    },
    {
      "cell_type": "code",
      "source": [
        "a.size"
      ],
      "metadata": {
        "colab": {
          "base_uri": "https://localhost:8080/"
        },
        "id": "fPDzBdk9d5l_",
        "outputId": "cf9e294b-e552-4d0a-a40d-9d85686ac831"
      },
      "execution_count": 5,
      "outputs": [
        {
          "output_type": "execute_result",
          "data": {
            "text/plain": [
              "5"
            ]
          },
          "metadata": {},
          "execution_count": 5
        }
      ]
    },
    {
      "cell_type": "code",
      "source": [
        "# 4. crate an array with arange function\n",
        "a = np.arange(10, 30, 5)\n",
        "print(a)"
      ],
      "metadata": {
        "colab": {
          "base_uri": "https://localhost:8080/"
        },
        "id": "vILWO82Ld66x",
        "outputId": "3fa54380-b254-4732-aaec-42a1d373a261"
      },
      "execution_count": 7,
      "outputs": [
        {
          "output_type": "stream",
          "name": "stdout",
          "text": [
            "[10 15 20 25]\n"
          ]
        }
      ]
    },
    {
      "cell_type": "code",
      "source": [
        "# 5. create a np array of zeros shape (3,4)\n",
        "np.zeros((3,4))"
      ],
      "metadata": {
        "colab": {
          "base_uri": "https://localhost:8080/"
        },
        "id": "5OuHXLE-exjB",
        "outputId": "28861def-cbe1-4f9e-ee31-a54273d90ebc"
      },
      "execution_count": 9,
      "outputs": [
        {
          "output_type": "execute_result",
          "data": {
            "text/plain": [
              "array([[0., 0., 0., 0.],\n",
              "       [0., 0., 0., 0.],\n",
              "       [0., 0., 0., 0.]])"
            ]
          },
          "metadata": {},
          "execution_count": 9
        }
      ]
    },
    {
      "cell_type": "code",
      "source": [
        "# 6. create a np array of ones shape (4,4)\n",
        "np.ones([4,4])"
      ],
      "metadata": {
        "colab": {
          "base_uri": "https://localhost:8080/"
        },
        "id": "FPFwxUiAe9TI",
        "outputId": "befbf564-66c7-47b7-c7da-05f13eddce39"
      },
      "execution_count": 10,
      "outputs": [
        {
          "output_type": "execute_result",
          "data": {
            "text/plain": [
              "array([[1., 1., 1., 1.],\n",
              "       [1., 1., 1., 1.],\n",
              "       [1., 1., 1., 1.],\n",
              "       [1., 1., 1., 1.]])"
            ]
          },
          "metadata": {},
          "execution_count": 10
        }
      ]
    },
    {
      "cell_type": "code",
      "source": [
        "#  7. craete a np array with full values with 5\n",
        "np.full((4,4), 8)"
      ],
      "metadata": {
        "colab": {
          "base_uri": "https://localhost:8080/"
        },
        "id": "Hk6tejjzfMNj",
        "outputId": "7bc979e6-8e34-4f76-f007-e5f193853a61"
      },
      "execution_count": 11,
      "outputs": [
        {
          "output_type": "execute_result",
          "data": {
            "text/plain": [
              "array([[8, 8, 8, 8],\n",
              "       [8, 8, 8, 8],\n",
              "       [8, 8, 8, 8],\n",
              "       [8, 8, 8, 8]])"
            ]
          },
          "metadata": {},
          "execution_count": 11
        }
      ]
    },
    {
      "cell_type": "code",
      "source": [
        "# 8.create a identiy array\n",
        "np.eye(5)"
      ],
      "metadata": {
        "colab": {
          "base_uri": "https://localhost:8080/"
        },
        "id": "eDkJZDkLfWR-",
        "outputId": "fa15d2d7-c393-4ec1-e050-7eb75b3fc334"
      },
      "execution_count": 12,
      "outputs": [
        {
          "output_type": "execute_result",
          "data": {
            "text/plain": [
              "array([[1., 0., 0., 0., 0.],\n",
              "       [0., 1., 0., 0., 0.],\n",
              "       [0., 0., 1., 0., 0.],\n",
              "       [0., 0., 0., 1., 0.],\n",
              "       [0., 0., 0., 0., 1.]])"
            ]
          },
          "metadata": {},
          "execution_count": 12
        }
      ]
    },
    {
      "cell_type": "code",
      "source": [
        "# 9.create a np array with random floats\n",
        "np.random.random((3,2)) * 100"
      ],
      "metadata": {
        "colab": {
          "base_uri": "https://localhost:8080/"
        },
        "id": "2kJ-XB4bfeUe",
        "outputId": "9346d01f-cca9-4bcc-a790-f38bfe300cef"
      },
      "execution_count": 14,
      "outputs": [
        {
          "output_type": "execute_result",
          "data": {
            "text/plain": [
              "array([[51.66124522,  0.81980428],\n",
              "       [53.34846666, 77.16481169],\n",
              "       [66.0850239 , 27.85359653]])"
            ]
          },
          "metadata": {},
          "execution_count": 14
        }
      ]
    },
    {
      "cell_type": "code",
      "source": [
        "# 10.crate a np array with random ints\n",
        "np.random.randint(1, 100, size=(3,3))"
      ],
      "metadata": {
        "colab": {
          "base_uri": "https://localhost:8080/"
        },
        "id": "sAPyG0BRfp6d",
        "outputId": "3484ffc3-3697-417c-e9e2-19dec3116c26"
      },
      "execution_count": 19,
      "outputs": [
        {
          "output_type": "execute_result",
          "data": {
            "text/plain": [
              "array([[74, 27, 30],\n",
              "       [88, 70, 24],\n",
              "       [85,  1, 72]])"
            ]
          },
          "metadata": {},
          "execution_count": 19
        }
      ]
    },
    {
      "cell_type": "code",
      "source": [
        "# 11.create a np array with values between 10, 60 at linspace of 5\n",
        "np.linspace(10, 60, 5)"
      ],
      "metadata": {
        "colab": {
          "base_uri": "https://localhost:8080/"
        },
        "id": "Hvg1m8GRggEL",
        "outputId": "3490e24d-117d-42ff-ebb3-b63da84d358a"
      },
      "execution_count": 22,
      "outputs": [
        {
          "output_type": "execute_result",
          "data": {
            "text/plain": [
              "array([10. , 22.5, 35. , 47.5, 60. ])"
            ]
          },
          "metadata": {},
          "execution_count": 22
        }
      ]
    },
    {
      "cell_type": "code",
      "source": [
        "np.arange(10,60, 5)"
      ],
      "metadata": {
        "colab": {
          "base_uri": "https://localhost:8080/"
        },
        "id": "LHAOqwW7goXk",
        "outputId": "e76e48c0-bd26-4f3e-eee6-7ab576e89f9d"
      },
      "execution_count": 23,
      "outputs": [
        {
          "output_type": "execute_result",
          "data": {
            "text/plain": [
              "array([10, 15, 20, 25, 30, 35, 40, 45, 50, 55])"
            ]
          },
          "metadata": {},
          "execution_count": 23
        }
      ]
    },
    {
      "cell_type": "code",
      "source": [
        "# 12. crete np array between 10, 60 using arange and step value\n",
        "np.arange(10,60, 5)"
      ],
      "metadata": {
        "colab": {
          "base_uri": "https://localhost:8080/"
        },
        "id": "0rlfybY2g_Tu",
        "outputId": "7d00f371-b486-4e93-ea9f-04a055168c73"
      },
      "execution_count": 24,
      "outputs": [
        {
          "output_type": "execute_result",
          "data": {
            "text/plain": [
              "array([10, 15, 20, 25, 30, 35, 40, 45, 50, 55])"
            ]
          },
          "metadata": {},
          "execution_count": 24
        }
      ]
    },
    {
      "cell_type": "code",
      "source": [
        "# 13.convert a list into an np.array\n",
        "list1 = [1,2,4,5.6]\n",
        "l1 = np.array(list1)\n",
        "type(l1)"
      ],
      "metadata": {
        "colab": {
          "base_uri": "https://localhost:8080/"
        },
        "id": "CYzyquIdg_mv",
        "outputId": "e23fe4be-8934-4ba5-884a-cf77d697995b"
      },
      "execution_count": 25,
      "outputs": [
        {
          "output_type": "execute_result",
          "data": {
            "text/plain": [
              "numpy.ndarray"
            ]
          },
          "metadata": {},
          "execution_count": 25
        }
      ]
    },
    {
      "cell_type": "code",
      "source": [
        "# 14.create a np array of random ints and analyze, shape, dimention, num of elements ( np.shape, np.ndim, np.size)\n",
        "a = np.random.randint(10,40, size=(3,3))\n",
        "print(a.shape)\n",
        "print(a.ndim)\n",
        "print(a.size)\n",
        "print(a.dtype)"
      ],
      "metadata": {
        "colab": {
          "base_uri": "https://localhost:8080/"
        },
        "id": "OORe6ltBg_93",
        "outputId": "f4ccd645-bb50-46f8-ddee-74f4d10b33fa"
      },
      "execution_count": 35,
      "outputs": [
        {
          "output_type": "stream",
          "name": "stdout",
          "text": [
            "(3, 3)\n",
            "2\n",
            "9\n",
            "int64\n"
          ]
        }
      ]
    },
    {
      "cell_type": "code",
      "source": [
        "#15 check the data type of the values inthe np array using dtypes\n",
        "a.dtype"
      ],
      "metadata": {
        "colab": {
          "base_uri": "https://localhost:8080/"
        },
        "id": "RwBJqhsshAO9",
        "outputId": "4bd21f73-b67d-43f6-ef18-6eb03b8094d1"
      },
      "execution_count": 33,
      "outputs": [
        {
          "output_type": "execute_result",
          "data": {
            "text/plain": [
              "dtype('int64')"
            ]
          },
          "metadata": {},
          "execution_count": 33
        }
      ]
    },
    {
      "cell_type": "code",
      "source": [
        "# 16.arthematic operations on np arrays\n",
        "# create two arrays the perform add, subtraction, multiplicaiton, and division, use both +,-,*,/ and np.add, np.subtract, np.multiplication, np.division check the exact functions\n",
        "a = np.random.randint(10, 30, size=(2,3))\n",
        "b = np.random.randint(10, 30, size=(2,3))\n",
        "# add two np arrays\n",
        "print(a + b)\n",
        "print(a-b)\n",
        "print(a*b)\n",
        "print(a/b)\n",
        "\n",
        "# with np funcitons\n",
        "print(np.add(a,b))\n",
        "print(np.subtract(a,b))\n",
        "print(np.multiply(a,b))\n",
        "print(np.divide(a,b))\n",
        "print(np.power(a,b))\n",
        "print(np.mod(a,b))"
      ],
      "metadata": {
        "colab": {
          "base_uri": "https://localhost:8080/"
        },
        "id": "QxPEq905hAfe",
        "outputId": "3f663c84-0ba6-4854-e361-87e6705c8ed5"
      },
      "execution_count": 36,
      "outputs": [
        {
          "output_type": "stream",
          "name": "stdout",
          "text": [
            "[[32 32 39]\n",
            " [42 43 45]]\n",
            "[[12  6  9]\n",
            " [14 -7  3]]\n",
            "[[220 247 360]\n",
            " [392 450 504]]\n",
            "[[2.2        1.46153846 1.6       ]\n",
            " [2.         0.72       1.14285714]]\n",
            "[[32 32 39]\n",
            " [42 43 45]]\n",
            "[[12  6  9]\n",
            " [14 -7  3]]\n",
            "[[220 247 360]\n",
            " [392 450 504]]\n",
            "[[2.2        1.46153846 1.6       ]\n",
            " [2.         0.72       1.14285714]]\n",
            "[[      26559922791424    42052983462257059  6795192965888212992]\n",
            " [-2408320907152982016  6890854633187573760 -9223372036854775808]]\n",
            "[[ 2  6  9]\n",
            " [ 0 18  3]]\n"
          ]
        }
      ]
    },
    {
      "cell_type": "code",
      "source": [
        "# 17. reshape a given array\n",
        "\n",
        "a =np.array([[1,2,3,4], [4,5,6,7]])\n",
        "print(a)\n",
        "a.reshape(4,2)"
      ],
      "metadata": {
        "colab": {
          "base_uri": "https://localhost:8080/"
        },
        "id": "8eJmkvFEhA9W",
        "outputId": "a4e658b5-0aba-46b7-e8c6-37e91335e531"
      },
      "execution_count": 39,
      "outputs": [
        {
          "output_type": "stream",
          "name": "stdout",
          "text": [
            "[[1 2 3 4]\n",
            " [4 5 6 7]]\n"
          ]
        },
        {
          "output_type": "execute_result",
          "data": {
            "text/plain": [
              "array([[1, 2],\n",
              "       [3, 4],\n",
              "       [4, 5],\n",
              "       [6, 7]])"
            ]
          },
          "metadata": {},
          "execution_count": 39
        }
      ]
    },
    {
      "cell_type": "code",
      "source": [
        "# 18.get the transpose of np array, np.transpose, np.T\n",
        "a = np.random.randint(10, 30, size=(4,2))\n",
        "print(a)\n",
        "# transpose\n",
        "print(a.transpose())\n",
        "# transpose\n",
        "print(a.T)\n"
      ],
      "metadata": {
        "colab": {
          "base_uri": "https://localhost:8080/"
        },
        "id": "5KnOVQ9Lhmaa",
        "outputId": "afed2942-6065-42c1-b25c-b6a7d1a1fb8e"
      },
      "execution_count": 42,
      "outputs": [
        {
          "output_type": "stream",
          "name": "stdout",
          "text": [
            "[[23 25]\n",
            " [22 17]\n",
            " [23 20]\n",
            " [27 18]]\n",
            "[[23 22 23 27]\n",
            " [25 17 20 18]]\n",
            "[[23 22 23 27]\n",
            " [25 17 20 18]]\n"
          ]
        }
      ]
    },
    {
      "cell_type": "code",
      "source": [
        "a = np.linspace(10, 30, 5)\n",
        "print(a)"
      ],
      "metadata": {
        "colab": {
          "base_uri": "https://localhost:8080/"
        },
        "id": "-1gshit4eQjR",
        "outputId": "3fff9c33-6ea8-461f-a1a3-615446df00ea"
      },
      "execution_count": 8,
      "outputs": [
        {
          "output_type": "stream",
          "name": "stdout",
          "text": [
            "[10. 15. 20. 25. 30.]\n"
          ]
        }
      ]
    },
    {
      "cell_type": "code",
      "source": [],
      "metadata": {
        "id": "_UCyPnVXem1S"
      },
      "execution_count": null,
      "outputs": []
    }
  ]
}